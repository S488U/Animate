{
  "nbformat": 4,
  "nbformat_minor": 0,
  "metadata": {
    "colab": {
      "provenance": [],
      "authorship_tag": "ABX9TyMNmKpKcoT/jMp9SBs/bH5e",
      "include_colab_link": true
    },
    "kernelspec": {
      "name": "python3",
      "display_name": "Python 3"
    },
    "language_info": {
      "name": "python"
    }
  },
  "cells": [
    {
      "cell_type": "markdown",
      "metadata": {
        "id": "view-in-github",
        "colab_type": "text"
      },
      "source": [
        "<a href=\"https://colab.research.google.com/github/S488U/Animate/blob/main/Untitled2.ipynb\" target=\"_parent\"><img src=\"https://colab.research.google.com/assets/colab-badge.svg\" alt=\"Open In Colab\"/></a>"
      ]
    },
    {
      "cell_type": "code",
      "execution_count": 10,
      "metadata": {
        "colab": {
          "base_uri": "https://localhost:8080/"
        },
        "id": "mHGosoapMqzH",
        "outputId": "db5f8ffa-82d6-453a-d359-dc5e52f08dd6"
      },
      "outputs": [
        {
          "output_type": "stream",
          "name": "stdout",
          "text": [
            "27\n",
            "3.857142857142857\n",
            "9\n",
            "0\n",
            "[0, 1, 2, 3, 5, 7, 9]\n",
            "[9, 7, 5, 3, 2, 1, 0]\n"
          ]
        }
      ],
      "source": [
        "numList = [7,9,3,5,2, 0, 1]\n",
        "\n",
        "sum1 = sum(numList)\n",
        "print(sum1)\n",
        "print(sum1/len(numList))\n",
        "\n",
        "print(max(numList))\n",
        "print(min(numList))\n",
        "\n",
        "srt = sorted(numList)\n",
        "print(srt)\n",
        "reversedNum = list(reversed(srt))\n",
        "print(reversedNum)"
      ]
    }
  ]
}