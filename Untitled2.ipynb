{
  "nbformat": 4,
  "nbformat_minor": 0,
  "metadata": {
    "colab": {
      "provenance": [],
      "authorship_tag": "ABX9TyOuGYYqkwbhWKWzq6z//DUT",
      "include_colab_link": true
    },
    "kernelspec": {
      "name": "python3",
      "display_name": "Python 3"
    },
    "language_info": {
      "name": "python"
    }
  },
  "cells": [
    {
      "cell_type": "markdown",
      "metadata": {
        "id": "view-in-github",
        "colab_type": "text"
      },
      "source": [
        "<a href=\"https://colab.research.google.com/github/S488U/Animate/blob/main/Untitled2.ipynb\" target=\"_parent\"><img src=\"https://colab.research.google.com/assets/colab-badge.svg\" alt=\"Open In Colab\"/></a>"
      ]
    },
    {
      "cell_type": "code",
      "execution_count": 15,
      "metadata": {
        "colab": {
          "base_uri": "https://localhost:8080/"
        },
        "id": "mHGosoapMqzH",
        "outputId": "6bcf7c04-570c-42f1-90b4-028a7c332e4e"
      },
      "outputs": [
        {
          "output_type": "stream",
          "name": "stdout",
          "text": [
            "27\n",
            "3.857142857142857\n",
            "9\n",
            "0\n",
            "[0, 1, 2, 3, 5, 7, 9]\n",
            "[9, 7, 5, 3, 2, 1, 0]\n"
          ]
        }
      ],
      "source": [
        "numList = [7,9,3,5,2, 0, 1]\n",
        "\n",
        "sum1 = sum(numList)\n",
        "print(sum1)\n",
        "print(sum1/len(numList))\n",
        "\n",
        "print(max(numList))\n",
        "print(min(numList))\n",
        "\n",
        "srt = sorted(numList)\n",
        "print(srt)\n",
        "#reversedNum = list(reversed(srt))\n",
        "reversedNum = srt[::-1]\n",
        "print(reversedNum)"
      ]
    },
    {
      "cell_type": "code",
      "source": [
        "x=\"Srinivas\"\n",
        "y=\"University\"\n",
        "\n",
        "print(x)\n",
        "a=list(x)\n",
        "print(a)\n",
        "\n",
        "print(y)\n",
        "b=list(y)\n",
        "print(b)\n",
        "\n",
        "print(a[::-1])\n",
        "print(b[::-1])\n",
        "\n",
        "print(a+b)"
      ],
      "metadata": {
        "colab": {
          "base_uri": "https://localhost:8080/"
        },
        "id": "98tcCp4kQEfY",
        "outputId": "364497fb-c681-4312-ab82-b39af04cf7d4"
      },
      "execution_count": 18,
      "outputs": [
        {
          "output_type": "stream",
          "name": "stdout",
          "text": [
            "Srinivas\n",
            "['S', 'r', 'i', 'n', 'i', 'v', 'a', 's']\n",
            "University\n",
            "['U', 'n', 'i', 'v', 'e', 'r', 's', 'i', 't', 'y']\n",
            "['s', 'a', 'v', 'i', 'n', 'i', 'r', 'S']\n",
            "['y', 't', 'i', 's', 'r', 'e', 'v', 'i', 'n', 'U']\n",
            "['S', 'r', 'i', 'n', 'i', 'v', 'a', 's', 'U', 'n', 'i', 'v', 'e', 'r', 's', 'i', 't', 'y']\n"
          ]
        }
      ]
    }
  ]
}